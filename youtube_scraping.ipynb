{
  "nbformat": 4,
  "nbformat_minor": 0,
  "metadata": {
    "colab": {
      "name": "youtube_scraping.ipynb",
      "provenance": [],
      "authorship_tag": "ABX9TyNwo4ADRgXWSXM0UajHWJvE",
      "include_colab_link": true
    },
    "kernelspec": {
      "name": "python3",
      "display_name": "Python 3"
    }
  },
  "cells": [
    {
      "cell_type": "markdown",
      "metadata": {
        "id": "view-in-github",
        "colab_type": "text"
      },
      "source": [
        "<a href=\"https://colab.research.google.com/github/Zobaid/Youtube_Comment_Extraction_and_NLP/blob/master/youtube_scraping.ipynb\" target=\"_parent\"><img src=\"https://colab.research.google.com/assets/colab-badge.svg\" alt=\"Open In Colab\"/></a>"
      ]
    },
    {
      "cell_type": "code",
      "metadata": {
        "id": "fl0xIOrL6nf3",
        "colab_type": "code",
        "colab": {
          "base_uri": "https://localhost:8080/",
          "height": 126
        },
        "outputId": "354182ad-8a5c-4de6-fb4e-8b9dd3cfb689"
      },
      "source": [
        "from google.colab import drive\n",
        "\n",
        "drive.mount('/content/gdrive',force_remount=True)"
      ],
      "execution_count": 1,
      "outputs": [
        {
          "output_type": "stream",
          "text": [
            "Go to this URL in a browser: https://accounts.google.com/o/oauth2/auth?client_id=947318989803-6bn6qk8qdgf4n4g3pfee6491hc0brc4i.apps.googleusercontent.com&redirect_uri=urn%3aietf%3awg%3aoauth%3a2.0%3aoob&response_type=code&scope=email%20https%3a%2f%2fwww.googleapis.com%2fauth%2fdocs.test%20https%3a%2f%2fwww.googleapis.com%2fauth%2fdrive%20https%3a%2f%2fwww.googleapis.com%2fauth%2fdrive.photos.readonly%20https%3a%2f%2fwww.googleapis.com%2fauth%2fpeopleapi.readonly\n",
            "\n",
            "Enter your authorization code:\n",
            "··········\n",
            "Mounted at /content/gdrive\n"
          ],
          "name": "stdout"
        }
      ]
    },
    {
      "cell_type": "code",
      "metadata": {
        "id": "G_yM4gq865vS",
        "colab_type": "code",
        "colab": {
          "base_uri": "https://localhost:8080/",
          "height": 195
        },
        "outputId": "07fa5233-b54b-4637-d683-2056615a4aec"
      },
      "source": [
        "%cd \"./gdrive/My Drive/Colab Notebooks/Youtube_Scrapper/Youtube_comment_nlp/\"\n",
        "!ls -l"
      ],
      "execution_count": 2,
      "outputs": [
        {
          "output_type": "stream",
          "text": [
            "/content/gdrive/My Drive/Colab Notebooks/Youtube_Scrapper/Youtube_comment_nlp\n",
            "total 8985\n",
            "-rw------- 1 root root    2431 Jul 17 09:14 addidas2.csv\n",
            "-rw------- 1 root root   89104 Jul 17 09:57 addidas3.csv\n",
            "-rw------- 1 root root   59712 Jul 17 08:52 addidas.csv\n",
            "-rw------- 1 root root 9036288 May 27 17:50 chromedriver.exe\n",
            "drwx------ 2 root root    4096 Jul 19 16:31 Results\n",
            "-rw------- 1 root root    2345 Jul 17 13:48 srapwithbs4.py\n",
            "-rw------- 1 root root    2418 Jul 17 10:03 youtube_nlp.py\n",
            "-rw------- 1 root root    2059 Jul 19 16:30 youtube_scraping.py\n"
          ],
          "name": "stdout"
        }
      ]
    },
    {
      "cell_type": "code",
      "metadata": {
        "id": "-Rcw3LVk7HOo",
        "colab_type": "code",
        "colab": {}
      },
      "source": [
        ""
      ],
      "execution_count": null,
      "outputs": []
    },
    {
      "cell_type": "code",
      "metadata": {
        "id": "3f9KUgxf7NiW",
        "colab_type": "code",
        "colab": {
          "base_uri": "https://localhost:8080/",
          "height": 159
        },
        "outputId": "7da77d83-6d1c-487a-bd7f-eca4314cdc3a"
      },
      "source": [
        "!pip install selenium bs4"
      ],
      "execution_count": 3,
      "outputs": [
        {
          "output_type": "stream",
          "text": [
            "Collecting selenium\n",
            "\u001b[?25l  Downloading https://files.pythonhosted.org/packages/80/d6/4294f0b4bce4de0abf13e17190289f9d0613b0a44e5dd6a7f5ca98459853/selenium-3.141.0-py2.py3-none-any.whl (904kB)\n",
            "\u001b[K     |████████████████████████████████| 911kB 7.6MB/s \n",
            "\u001b[?25hRequirement already satisfied: bs4 in /usr/local/lib/python3.6/dist-packages (0.0.1)\n",
            "Requirement already satisfied: urllib3 in /usr/local/lib/python3.6/dist-packages (from selenium) (1.24.3)\n",
            "Requirement already satisfied: beautifulsoup4 in /usr/local/lib/python3.6/dist-packages (from bs4) (4.6.3)\n",
            "Installing collected packages: selenium\n",
            "Successfully installed selenium-3.141.0\n"
          ],
          "name": "stdout"
        }
      ]
    },
    {
      "cell_type": "code",
      "metadata": {
        "id": "F_87uyym7ZfE",
        "colab_type": "code",
        "colab": {}
      },
      "source": [
        "import time\n",
        "from selenium.webdriver import Chrome\n",
        "from selenium.webdriver.common.by import By\n",
        "from selenium.webdriver.common.keys import Keys\n",
        "from selenium.webdriver.support.ui import WebDriverWait\n",
        "from selenium.webdriver.support import expected_conditions as EC\n",
        "from bs4 import BeautifulSoup \n",
        "import requests "
      ],
      "execution_count": 4,
      "outputs": []
    },
    {
      "cell_type": "code",
      "metadata": {
        "id": "8D9PvTCX9H_e",
        "colab_type": "code",
        "colab": {}
      },
      "source": [
        "!pip install selenium\n",
        "!apt-get update # to update ubuntu to correctly run apt install\n",
        "!apt install chromium-chromedriver\n",
        "!cp /usr/lib/chromium-browser/chromedriver /usr/bin\n",
        "import sys\n",
        "sys.path.insert(0,'/usr/lib/chromium-browser/chromedriver')\n",
        "from selenium import webdriver\n",
        "chrome_options = webdriver.ChromeOptions()\n",
        "chrome_options.add_argument('--headless')\n",
        "chrome_options.add_argument('--no-sandbox')\n",
        "chrome_options.add_argument('--disable-dev-shm-usage')\n",
        "\n",
        "wd = webdriver.Chrome('chromedriver',chrome_options=chrome_options)\n",
        "wd.get(\"https://www.webite-url.com\")"
      ],
      "execution_count": null,
      "outputs": []
    },
    {
      "cell_type": "markdown",
      "metadata": {
        "id": "jbgkcowfAK_O",
        "colab_type": "text"
      },
      "source": [
        "#change the url according **to**"
      ]
    },
    {
      "cell_type": "code",
      "metadata": {
        "id": "MxZtXY0_7e-j",
        "colab_type": "code",
        "colab": {}
      },
      "source": [
        "url=\"https://www.youtube.com/watch?v=icetLikj7XY\"\n",
        "data=[]\n",
        "\n",
        "##with Chrome('/content/gdrive/My Drive/Colab Notebooks/Youtube_Scrapper/Youtube_comment_nlp/chromedriver.exe') as driver:\n",
        "wait = WebDriverWait(wd,5)\n",
        "    #driver.get(url)\n",
        "wd.get(url)\n",
        "for item in range(190): \n",
        "  wait.until(EC.visibility_of_element_located((By.TAG_NAME, \"body\"))).send_keys(Keys.END)\n",
        "  time.sleep(10)\n",
        "\n",
        "for comment in wait.until(EC.presence_of_all_elements_located((By.CSS_SELECTOR, \"#content-text\"))):\n",
        "  data.append(comment.text)"
      ],
      "execution_count": 10,
      "outputs": []
    },
    {
      "cell_type": "markdown",
      "metadata": {
        "id": "_AjG7CNxABQ1",
        "colab_type": "text"
      },
      "source": [
        "Tried with Beatiful soup.. Does not **work** ****"
      ]
    },
    {
      "cell_type": "code",
      "metadata": {
        "id": "U7OjR8B0_-nr",
        "colab_type": "code",
        "colab": {}
      },
      "source": [
        ""
      ],
      "execution_count": null,
      "outputs": []
    },
    {
      "cell_type": "code",
      "metadata": {
        "id": "1yURPTuO-cM_",
        "colab_type": "code",
        "colab": {}
      },
      "source": [
        "    \t# getting the request from url \n",
        "#r = requests.get(url) \n",
        "    \t\n",
        "    \t# converting the text \n",
        "#s = BeautifulSoup(r.text, \"html.parser\") \n",
        "    \t\n",
        "    \t# finding meta info for title \n",
        "#title = s.find(\"span\", class_=\"watch-title\").text.replace(\"\\n\", \"\") \n",
        "    \t\n",
        "    \t# finding meta info for views \n",
        "#views = s.find(\"div\", class_=\"watch-view-count\").text \n",
        "    \t\n",
        "    \t# finding meta info for likes \n",
        "#likes = s.find(\"span\", class_=\"like-button-renderer\").span.button.text \n",
        "    \t\n",
        "    \t# saving this data in dictionary \n",
        "#datas = {'title':title, 'views':views, 'likes':likes} \n",
        "#number_of_likes = driver.find_element_by_xpath(\"#top-level-buttons > ytd-toggle-button-renderer:nth-child(1) > a > yt-formatted-string\").text\n",
        "    \t\n",
        "    \t# returning the dictionary "
      ],
      "execution_count": null,
      "outputs": []
    },
    {
      "cell_type": "code",
      "metadata": {
        "id": "OPiUhta2-iEa",
        "colab_type": "code",
        "colab": {
          "base_uri": "https://localhost:8080/",
          "height": 194
        },
        "outputId": "473b7559-ef9e-484c-f561-33a5955a12be"
      },
      "source": [
        "#APPEND THE DICT TO PANDAS DATAFRAME\n",
        "import pandas as pd   \n",
        "df = pd.DataFrame(data, columns=['comment'])\n",
        "#dfs=pd.DataFrame(datas,columns=['title','views','likes'])\n",
        "    \n",
        "df.to_csv(r'addidas3.csv',index=False, header=True) \n",
        "#dfs.to_csv(r'addidas3a.csv',index=False, header=True)   \n",
        "#print(number_of_likes)\n",
        "df.head()\n",
        "    "
      ],
      "execution_count": 11,
      "outputs": [
        {
          "output_type": "execute_result",
          "data": {
            "text/html": [
              "<div>\n",
              "<style scoped>\n",
              "    .dataframe tbody tr th:only-of-type {\n",
              "        vertical-align: middle;\n",
              "    }\n",
              "\n",
              "    .dataframe tbody tr th {\n",
              "        vertical-align: top;\n",
              "    }\n",
              "\n",
              "    .dataframe thead th {\n",
              "        text-align: right;\n",
              "    }\n",
              "</style>\n",
              "<table border=\"1\" class=\"dataframe\">\n",
              "  <thead>\n",
              "    <tr style=\"text-align: right;\">\n",
              "      <th></th>\n",
              "      <th>comment</th>\n",
              "    </tr>\n",
              "  </thead>\n",
              "  <tbody>\n",
              "    <tr>\n",
              "      <th>0</th>\n",
              "      <td>Yo! The adidas Ultra Boost is now on sale for ...</td>\n",
              "    </tr>\n",
              "    <tr>\n",
              "      <th>1</th>\n",
              "      <td>I don't need reasons...I need money 🤣</td>\n",
              "    </tr>\n",
              "    <tr>\n",
              "      <th>2</th>\n",
              "      <td>Adidas should treat this shoes as classics lik...</td>\n",
              "    </tr>\n",
              "    <tr>\n",
              "      <th>3</th>\n",
              "      <td>I’ve had Nike’s my whole life. Just recently I...</td>\n",
              "    </tr>\n",
              "    <tr>\n",
              "      <th>4</th>\n",
              "      <td>Cop some groceries</td>\n",
              "    </tr>\n",
              "  </tbody>\n",
              "</table>\n",
              "</div>"
            ],
            "text/plain": [
              "                                             comment\n",
              "0  Yo! The adidas Ultra Boost is now on sale for ...\n",
              "1              I don't need reasons...I need money 🤣\n",
              "2  Adidas should treat this shoes as classics lik...\n",
              "3  I’ve had Nike’s my whole life. Just recently I...\n",
              "4                                 Cop some groceries"
            ]
          },
          "metadata": {
            "tags": []
          },
          "execution_count": 11
        }
      ]
    },
    {
      "cell_type": "markdown",
      "metadata": {
        "id": "OtjWg4SZ_OzD",
        "colab_type": "text"
      },
      "source": [
        "Then just run the nlp python file"
      ]
    },
    {
      "cell_type": "code",
      "metadata": {
        "id": "mR9wV0PO-xGD",
        "colab_type": "code",
        "colab": {}
      },
      "source": [
        "!python youtube_nlp.py"
      ],
      "execution_count": null,
      "outputs": []
    },
    {
      "cell_type": "markdown",
      "metadata": {
        "id": "kO3NRp43Civg",
        "colab_type": "text"
      },
      "source": [
        "youtube nlp python script to ipynb format"
      ]
    },
    {
      "cell_type": "code",
      "metadata": {
        "id": "eYeACSt_BAFf",
        "colab_type": "code",
        "colab": {
          "base_uri": "https://localhost:8080/",
          "height": 70
        },
        "outputId": "b7acd14f-5347-4aa1-bf91-5b8a1c3077b7"
      },
      "source": [
        "#!pip install nltk\n",
        "#import nltk\n",
        "#nltk.download('stopwords')\n",
        "nltk.download('WordNet')\n",
        "#nltk.download('TextBlob')"
      ],
      "execution_count": 21,
      "outputs": [
        {
          "output_type": "stream",
          "text": [
            "[nltk_data] Error loading WordNet: Package 'WordNet' not found in\n",
            "[nltk_data]     index\n"
          ],
          "name": "stdout"
        },
        {
          "output_type": "execute_result",
          "data": {
            "text/plain": [
              "False"
            ]
          },
          "metadata": {
            "tags": []
          },
          "execution_count": 21
        }
      ]
    },
    {
      "cell_type": "code",
      "metadata": {
        "id": "UPjkwe6qA92P",
        "colab_type": "code",
        "colab": {}
      },
      "source": [
        "#Import packages and data\n",
        "import pandas as pd\n",
        "import re, string\n",
        "import nltk\n",
        "from nltk.corpus import stopwords\n",
        "from nltk.stem import WordNetLemmatizer \n",
        "from textblob import TextBlob\n",
        "\n",
        "df=pd.read_csv('addidas3.csv')\n",
        "\n",
        "##### DATA CLEANING ########\n",
        "sw = stopwords.words('english')\n",
        "\n",
        "def clean_text(text):\n",
        "\n",
        "    text = text.lower()\n",
        "    text = re.sub('@', '', text)\n",
        "    text = re.sub('\\[.*?\\]', '', text)\n",
        "    text = re.sub('https?://\\S+|www\\.\\S+', '', text)\n",
        "    text = re.sub('<.*?>+', '', text)\n",
        "    text = re.sub('[%s]' % re.escape(string.punctuation), '', text)\n",
        "    text = re.sub('\\n', '', text)\n",
        "    text = re.sub('\\w*\\d\\w*', '', text)\n",
        "    text = re.sub(r\"[^a-zA-Z ]+\", \"\", text)\n",
        "    \n",
        "    #Tokenize the data\n",
        "    text = nltk.word_tokenize(text)\n",
        "    #Remove stopwords\n",
        "    text = [w for w in text if w not in sw]\n",
        "\n",
        "    return text"
      ],
      "execution_count": 14,
      "outputs": []
    },
    {
      "cell_type": "code",
      "metadata": {
        "id": "RUzNiks2GX8D",
        "colab_type": "code",
        "colab": {
          "base_uri": "https://localhost:8080/",
          "height": 70
        },
        "outputId": "7fe6b19e-9297-4dd2-9ce9-6de0bea2d087"
      },
      "source": [
        "nltk.download('punkt')"
      ],
      "execution_count": 16,
      "outputs": [
        {
          "output_type": "stream",
          "text": [
            "[nltk_data] Downloading package punkt to /root/nltk_data...\n",
            "[nltk_data]   Unzipping tokenizers/punkt.zip.\n"
          ],
          "name": "stdout"
        },
        {
          "output_type": "execute_result",
          "data": {
            "text/plain": [
              "True"
            ]
          },
          "metadata": {
            "tags": []
          },
          "execution_count": 16
        }
      ]
    },
    {
      "cell_type": "code",
      "metadata": {
        "id": "jG3fZbzeGvKY",
        "colab_type": "code",
        "colab": {
          "base_uri": "https://localhost:8080/",
          "height": 70
        },
        "outputId": "b9d4486f-78f1-48bd-ec76-f88252c4d5f7"
      },
      "source": [
        "nltk.download('wordnet')"
      ],
      "execution_count": 22,
      "outputs": [
        {
          "output_type": "stream",
          "text": [
            "[nltk_data] Downloading package wordnet to /root/nltk_data...\n",
            "[nltk_data]   Unzipping corpora/wordnet.zip.\n"
          ],
          "name": "stdout"
        },
        {
          "output_type": "execute_result",
          "data": {
            "text/plain": [
              "True"
            ]
          },
          "metadata": {
            "tags": []
          },
          "execution_count": 22
        }
      ]
    },
    {
      "cell_type": "code",
      "metadata": {
        "id": "4ZFQiyjvBoqp",
        "colab_type": "code",
        "colab": {}
      },
      "source": [
        "# Applying the cleaning function to data\n",
        "df['comment'] = df['comment'].apply(lambda x: clean_text(x))"
      ],
      "execution_count": null,
      "outputs": []
    },
    {
      "cell_type": "code",
      "metadata": {
        "id": "jVcIWQb6BvjF",
        "colab_type": "code",
        "colab": {}
      },
      "source": [
        "\n",
        "#Lemmatizer\n",
        "lemmatizer = WordNetLemmatizer()\n",
        "def lem(text):\n",
        "    text = [lemmatizer.lemmatize(t) for t in text]\n",
        "    text = [lemmatizer.lemmatize(t, 'v') for t in text]\n",
        "\n",
        "    return text\n",
        "\n",
        "df['comment'] = df['comment'].apply(lambda x: lem(x))"
      ],
      "execution_count": 23,
      "outputs": []
    },
    {
      "cell_type": "code",
      "metadata": {
        "id": "A_ZUpsL1BxRF",
        "colab_type": "code",
        "colab": {}
      },
      "source": [
        "#Remove all empty comments\n",
        "empty_comment = df['comment'][797]\n",
        "\n",
        "for i in range(len(df)):\n",
        "    if df['comment'][i]==empty_comment:\n",
        "        df=df.drop(i)\n",
        "\n",
        "df=df.reset_index(drop=True)"
      ],
      "execution_count": 28,
      "outputs": []
    },
    {
      "cell_type": "code",
      "metadata": {
        "id": "8dY4iUH-B1Pw",
        "colab_type": "code",
        "colab": {}
      },
      "source": [
        "#From lists to single list       \n",
        "all_words=[]        \n",
        "for i in range(len(df)):\n",
        "    all_words = all_words + df['comment'][i]"
      ],
      "execution_count": 29,
      "outputs": []
    },
    {
      "cell_type": "code",
      "metadata": {
        "id": "7LfDL9G7B5Bl",
        "colab_type": "code",
        "colab": {
          "base_uri": "https://localhost:8080/",
          "height": 345
        },
        "outputId": "8f750a1d-eae8-46aa-93d1-3d3f9e8bbfaa"
      },
      "source": [
        "#Get word frequency        \n",
        "nlp_words = nltk.FreqDist(all_words)\n",
        "nlp_words.plot(20, color='salmon', title='Word Frequency')"
      ],
      "execution_count": 30,
      "outputs": [
        {
          "output_type": "display_data",
          "data": {
            "image/png": "[encoded data removed]",
            "text/plain": [
              "<Figure size 432x288 with 1 Axes>"
            ]
          },
          "metadata": {
            "tags": [],
            "needs_background": "light"
          }
        }
      ]
    },
    {
      "cell_type": "code",
      "metadata": {
        "id": "ZeDwdbBsB8sI",
        "colab_type": "code",
        "colab": {
          "base_uri": "https://localhost:8080/",
          "height": 395
        },
        "outputId": "4d9ed5f5-31d5-4731-97c3-526c2b4759f6"
      },
      "source": [
        "#Bigrams\n",
        "bigrm = list(nltk.bigrams(all_words))\n",
        "words_2 = nltk.FreqDist(bigrm)\n",
        "words_2.plot(20, color='salmon', title='Bigram Frequency')"
      ],
      "execution_count": 31,
      "outputs": [
        {
          "output_type": "display_data",
          "data": {
            "image/png": "[encoded data removed]",
            "text/plain": [
              "<Figure size 432x288 with 1 Axes>"
            ]
          },
          "metadata": {
            "tags": [],
            "needs_background": "light"
          }
        }
      ]
    },
    {
      "cell_type": "code",
      "metadata": {
        "id": "8fQFcqKcCADB",
        "colab_type": "code",
        "colab": {
          "base_uri": "https://localhost:8080/",
          "height": 429
        },
        "outputId": "0790f9e0-bbb2-47ad-adc7-905294394c69"
      },
      "source": [
        "#Trigrams\n",
        "trigrm = list(nltk.trigrams(all_words))\n",
        "words_3 = nltk.FreqDist(trigrm)\n",
        "words_3.plot(20, color='salmon', title='Trigram Frequency')"
      ],
      "execution_count": 32,
      "outputs": [
        {
          "output_type": "display_data",
          "data": {
            "image/png": "[encoded data removed]",
            "text/plain": [
              "<Figure size 432x288 with 1 Axes>"
            ]
          },
          "metadata": {
            "tags": [],
            "needs_background": "light"
          }
        }
      ]
    },
    {
      "cell_type": "code",
      "metadata": {
        "id": "nq959ItpCC8l",
        "colab_type": "code",
        "colab": {}
      },
      "source": [
        "sentiment = []\n",
        "for i in range(len(df)):\n",
        "    blob = TextBlob(df['comment'][i])\n",
        "    for sentence in blob.sentences:\n",
        "        sentiment.append(sentence.sentiment.polarity)\n",
        "\n",
        "df['sentiment']=sentiment\n",
        "df['sentiment'].plot(color='salmon', title='Comments Polarity')\n",
        "        \n",
        "#Basic stats\n",
        "#df['sentiment'].describe()\n",
        "#nlp_words['criminal']"
      ],
      "execution_count": null,
      "outputs": []
    },
    {
      "cell_type": "code",
      "metadata": {
        "id": "KkC6Svo6IV5o",
        "colab_type": "code",
        "colab": {
          "base_uri": "https://localhost:8080/",
          "height": 299
        },
        "outputId": "32c51576-9eb0-41e5-cf15-e541f05764cc"
      },
      "source": [
        "#Get sentiment from comments\n",
        "df['comment'] = [str(thing) for thing in df['comment']]\n",
        "sentiment = []\n",
        "for i in range(len(df)):\n",
        "    blob = TextBlob(df['comment'][i])\n",
        "    for sentence in blob.sentences:\n",
        "        sentiment.append(sentence.sentiment.polarity)\n",
        "df['sentiment']=sentiment\n",
        "#Plot\n",
        "df['sentiment'].plot.hist(color='salmon', title='Comments Polarity')"
      ],
      "execution_count": 36,
      "outputs": [
        {
          "output_type": "execute_result",
          "data": {
            "text/plain": [
              "<matplotlib.axes._subplots.AxesSubplot at 0x7f4945e10358>"
            ]
          },
          "metadata": {
            "tags": []
          },
          "execution_count": 36
        },
        {
          "output_type": "display_data",
          "data": {
            "image/png": "[encoded data removed]",
            "text/plain": [
              "<Figure size 432x288 with 1 Axes>"
            ]
          },
          "metadata": {
            "tags": [],
            "needs_background": "light"
          }
        }
      ]
    }
  ]
}